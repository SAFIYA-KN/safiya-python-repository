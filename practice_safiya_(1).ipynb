{
  "cells": [
    {
      "cell_type": "markdown",
      "metadata": {
        "id": "view-in-github",
        "colab_type": "text"
      },
      "source": [
        "<a href=\"https://colab.research.google.com/github/SAFIYA-KN/safiya-python-repository/blob/main/practice_safiya_(1).ipynb\" target=\"_parent\"><img src=\"https://colab.research.google.com/assets/colab-badge.svg\" alt=\"Open In Colab\"/></a>"
      ]
    },
    {
      "cell_type": "code",
      "execution_count": null,
      "id": "05244b18",
      "metadata": {
        "id": "05244b18"
      },
      "outputs": [],
      "source": [
        "Tutorial 3\n",
        "1.Read names of \"n\" fruits from user.\n",
        "2. Append 2 more fruits to the list by taking user inputs\n",
        "3. print the names of fruits from 3rd index to 6th index using negative indexing.\n",
        "4. Using a for loop , display the names of the fruits with letter \"i\"; .\n",
        "5. delete the last fruit without specifying its index.\n",
        "6. Check if the fruit apple present in the list.\n",
        "7. If apple is present in the list , replace it with dragon fruit.\n",
        "8. Remove the fruits in the index range 4-6.\n",
        "9. Reverse the list.\n",
        "10. Sort the list.\n",
        "11. Copy the list to another list\n",
        "12. clear the 1st list list.\n",
        "13. Display the lists.\n",
        "14. Insert a new fruit at the 2nd index of the 2nd list taking user input.\n",
        "15. Delete the 2nd list.\n",
        "16 : Print the even numbers from 0 to 10 using List Comprehension."
      ]
    },
    {
      "cell_type": "code",
      "execution_count": null,
      "id": "f62ab811",
      "metadata": {
        "id": "f62ab811",
        "outputId": "d76a659d-949c-4a74-e88b-f2a09ee2dff2"
      },
      "outputs": [
        {
          "name": "stdout",
          "output_type": "stream",
          "text": [
            "enter a limit n:6\n",
            "apple\n",
            "orange\n",
            "mango\n",
            "kiwi\n",
            "banana\n",
            "jack fruit\n",
            "complete\n"
          ]
        }
      ],
      "source": [
        "#1\n",
        "n=int(input(\"enter a limit n:\"))\n",
        "a=[]\n",
        "for i in range(0,n,1):\n",
        "    s=input()\n",
        "    a.append(s)\n",
        "print(\"complete\")"
      ]
    },
    {
      "cell_type": "code",
      "execution_count": null,
      "id": "0bf325e3",
      "metadata": {
        "id": "0bf325e3",
        "outputId": "02f782e7-1f83-44d9-a9fb-e04051ab2881"
      },
      "outputs": [
        {
          "name": "stdout",
          "output_type": "stream",
          "text": [
            "enter a limit n:6\n",
            "appleorange\n",
            "mango\n",
            "banana\n",
            "kiwi\n",
            "jackfruit\n",
            "orange\n",
            "enter new 1 friut:gua\n",
            "enter new 2 friut:dragon fruit\n",
            "['appleorange', 'mango', 'banana', 'kiwi', 'jackfruit', 'orange', 'gua', 'dragon fruit']\n",
            "complete\n"
          ]
        }
      ],
      "source": [
        "#2\n",
        "n=int(input(\"enter a limit n:\"))\n",
        "a=[]\n",
        "for i in range(0,n,1):\n",
        "    s=input()\n",
        "    a.append(s)\n",
        "f1=input(\"enter new 1 friut:\")\n",
        "a.append(f1)\n",
        "f2=input(\"enter new 2 friut:\")\n",
        "a.append(f2)\n",
        "print(a)\n",
        "print(\"complete\")"
      ]
    },
    {
      "cell_type": "code",
      "execution_count": null,
      "id": "f346ad9c",
      "metadata": {
        "id": "f346ad9c",
        "outputId": "6ab7581d-a413-407a-b224-51c6b8e7024f"
      },
      "outputs": [
        {
          "name": "stdout",
          "output_type": "stream",
          "text": [
            "['mango', 'banana', 'jackfruit']\n"
          ]
        }
      ],
      "source": [
        "#3\n",
        "print(a[-6:-3])"
      ]
    },
    {
      "cell_type": "code",
      "execution_count": null,
      "id": "106e274d",
      "metadata": {
        "id": "106e274d",
        "outputId": "0900564b-0fcb-4cc2-a170-05363792be01"
      },
      "outputs": [
        {
          "name": "stdout",
          "output_type": "stream",
          "text": [
            "jackfruit\n",
            "kiwi\n",
            "dragon fruit\n"
          ]
        }
      ],
      "source": [
        "#4\n",
        "for i in a:          #a is the full list and is the each element in a\n",
        "    if \"i\" in i:    #checks if charecter \"i\" is present in element i\n",
        "        print(i)\n",
        ""
      ]
    },
    {
      "cell_type": "code",
      "execution_count": null,
      "id": "158fc94b",
      "metadata": {
        "id": "158fc94b",
        "outputId": "f9033d48-fc12-4fd2-9083-d1f5b98cf1df"
      },
      "outputs": [
        {
          "name": "stdout",
          "output_type": "stream",
          "text": [
            "['apple', 'orange', 'mango', 'banana', 'jackfruit', 'gua', 'kiwi']\n"
          ]
        }
      ],
      "source": [
        "#5\n",
        "a.pop()\n",
        "print(a)"
      ]
    },
    {
      "cell_type": "code",
      "execution_count": null,
      "id": "7d85e2af",
      "metadata": {
        "id": "7d85e2af",
        "outputId": "9ebf631f-e3be-4e17-e89d-5a7b75ef2c96"
      },
      "outputs": [
        {
          "name": "stdout",
          "output_type": "stream",
          "text": [
            "YES\n"
          ]
        }
      ],
      "source": [
        "#6\n",
        "if \"apple\" in a:\n",
        "    print(\"YES\")\n",
        "else :\n",
        "    print(\"NO\")"
      ]
    },
    {
      "cell_type": "code",
      "execution_count": null,
      "id": "5e3c1bcb",
      "metadata": {
        "id": "5e3c1bcb",
        "outputId": "85ec34b4-d62d-4543-dee6-59109d791315"
      },
      "outputs": [
        {
          "name": "stdout",
          "output_type": "stream",
          "text": [
            "['apple', 'orange', 'mango', 'banana', 'jackfruit', 'gua', 'kiwi']\n",
            "0\n",
            "['dragon friut', 'orange', 'mango', 'banana', 'jackfruit', 'gua', 'kiwi']\n"
          ]
        }
      ],
      "source": [
        "#7\n",
        "print(a)\n",
        "print(a.index(\"apple\"))\n",
        "a[a.index(\"apple\")]=\"dragon friut\"\n",
        "print(a)\n"
      ]
    },
    {
      "cell_type": "code",
      "execution_count": 19,
      "id": "1dbaa1ef",
      "metadata": {
        "colab": {
          "base_uri": "https://localhost:8080/"
        },
        "id": "1dbaa1ef",
        "outputId": "93b8626a-8814-4ab3-c434-ba124ef52388"
      },
      "outputs": [
        {
          "output_type": "stream",
          "name": "stdout",
          "text": [
            "['apple', 'orange', 'mango', 'banana', 'jackfruit', 'kiwi', 'gua', 'lemon']\n",
            "['apple', 'orange', 'mango', 'banana', 'lemon']\n"
          ]
        }
      ],
      "source": [
        "#8\n",
        "a=[\"apple\",\"orange\",\"mango\",\"banana\",\"jackfruit\",\"kiwi\",\"gua\",\"lemon\"]\n",
        "print(a)\n",
        "del a[4:7]\n",
        "\n",
        "print(a)"
      ]
    },
    {
      "cell_type": "code",
      "execution_count": null,
      "id": "d852fb8c",
      "metadata": {
        "id": "d852fb8c",
        "outputId": "1f58f799-3ea2-44af-abd5-8a13103f66d5"
      },
      "outputs": [
        {
          "name": "stdout",
          "output_type": "stream",
          "text": [
            "['lemon', 'banana', 'mango', 'orange', 'apple']\n"
          ]
        }
      ],
      "source": [
        "#9\n",
        "print(a[::-1])"
      ]
    },
    {
      "cell_type": "code",
      "execution_count": null,
      "id": "3d646aff",
      "metadata": {
        "id": "3d646aff",
        "outputId": "945c83b0-efa8-4d3e-f9eb-dd87727f904d"
      },
      "outputs": [
        {
          "name": "stdout",
          "output_type": "stream",
          "text": [
            "['apple', 'banana', 'lemon', 'mango', 'orange']\n"
          ]
        }
      ],
      "source": [
        "#10\n",
        "print(sorted(a))"
      ]
    },
    {
      "cell_type": "code",
      "execution_count": 20,
      "id": "61144c1e",
      "metadata": {
        "colab": {
          "base_uri": "https://localhost:8080/"
        },
        "id": "61144c1e",
        "outputId": "0e8c4e29-9920-402f-90b4-2613a862e756"
      },
      "outputs": [
        {
          "output_type": "stream",
          "name": "stdout",
          "text": [
            "['apple', 'orange', 'mango', 'banana', 'lemon']\n"
          ]
        }
      ],
      "source": [
        "#11\n",
        "copy1=[]\n",
        "copy1=a\n",
        "print(copy1)"
      ]
    },
    {
      "cell_type": "code",
      "execution_count": 3,
      "id": "35e705be",
      "metadata": {
        "colab": {
          "base_uri": "https://localhost:8080/"
        },
        "id": "35e705be",
        "outputId": "b38c990e-cf15-4e71-c6aa-146874d06a4b"
      },
      "outputs": [
        {
          "output_type": "stream",
          "name": "stdout",
          "text": [
            "[]\n"
          ]
        }
      ],
      "source": [
        "#12\n",
        "a.clear()\n",
        "print(a)"
      ]
    },
    {
      "cell_type": "code",
      "execution_count": 7,
      "id": "c05d9c1e",
      "metadata": {
        "colab": {
          "base_uri": "https://localhost:8080/"
        },
        "id": "c05d9c1e",
        "outputId": "e51b122a-d71b-42da-8ac4-803bfea48824"
      },
      "outputs": [
        {
          "output_type": "stream",
          "name": "stdout",
          "text": [
            "initial list  ['apple', 'orange', 'mango', 'banana', 'lemon']\n",
            "new list ['apple', 'orange', 'mango', 'banana', 'lemon']\n"
          ]
        }
      ],
      "source": [
        "print(\"initial list \",a)\n",
        "print(\"new list\",copy1)"
      ]
    },
    {
      "cell_type": "code",
      "execution_count": 9,
      "id": "d6c46d9a",
      "metadata": {
        "colab": {
          "base_uri": "https://localhost:8080/"
        },
        "id": "d6c46d9a",
        "outputId": "bb2438a6-df59-4369-da26-be71ee2614b8"
      },
      "outputs": [
        {
          "output_type": "stream",
          "name": "stdout",
          "text": [
            "enter new fruit:mango\n",
            "['apple', 'orange', 'mango', 'watermelon', 'banana', 'lemon']\n"
          ]
        }
      ],
      "source": [
        "fruit=input(\"enter new fruit:\")\n",
        "copy1.insert(2,fruit)\n",
        "print(copy1)"
      ]
    },
    {
      "cell_type": "code",
      "source": [],
      "metadata": {
        "id": "L4anU7I5j-dQ"
      },
      "id": "L4anU7I5j-dQ",
      "execution_count": null,
      "outputs": []
    },
    {
      "cell_type": "code",
      "execution_count": 21,
      "id": "7ac058bf",
      "metadata": {
        "colab": {
          "base_uri": "https://localhost:8080/",
          "height": 193
        },
        "id": "7ac058bf",
        "outputId": "05a8a763-0f9f-4cdc-82b1-0a742374ba4d"
      },
      "outputs": [
        {
          "output_type": "stream",
          "name": "stdout",
          "text": [
            "list to delete: ['apple', 'orange', 'mango', 'banana', 'lemon']\n"
          ]
        },
        {
          "output_type": "error",
          "ename": "NameError",
          "evalue": "name 'copy1' is not defined",
          "traceback": [
            "\u001b[0;31m---------------------------------------------------------------------------\u001b[0m",
            "\u001b[0;31mNameError\u001b[0m                                 Traceback (most recent call last)",
            "\u001b[0;32m<ipython-input-21-253f42fcdb74>\u001b[0m in \u001b[0;36m<cell line: 0>\u001b[0;34m()\u001b[0m\n\u001b[1;32m      1\u001b[0m \u001b[0mprint\u001b[0m\u001b[0;34m(\u001b[0m\u001b[0;34m\"list to delete:\"\u001b[0m\u001b[0;34m,\u001b[0m\u001b[0mcopy1\u001b[0m\u001b[0;34m)\u001b[0m\u001b[0;34m\u001b[0m\u001b[0;34m\u001b[0m\u001b[0m\n\u001b[1;32m      2\u001b[0m \u001b[0;32mdel\u001b[0m \u001b[0mcopy1\u001b[0m\u001b[0;34m\u001b[0m\u001b[0;34m\u001b[0m\u001b[0m\n\u001b[0;32m----> 3\u001b[0;31m \u001b[0mprint\u001b[0m\u001b[0;34m(\u001b[0m\u001b[0mcopy1\u001b[0m\u001b[0;34m)\u001b[0m\u001b[0;34m\u001b[0m\u001b[0;34m\u001b[0m\u001b[0m\n\u001b[0m",
            "\u001b[0;31mNameError\u001b[0m: name 'copy1' is not defined"
          ]
        }
      ],
      "source": [
        "print(\"list to delete:\",copy1)\n",
        "del copy1\n",
        "print(copy1)"
      ]
    },
    {
      "cell_type": "code",
      "execution_count": 22,
      "id": "19d1b123",
      "metadata": {
        "colab": {
          "base_uri": "https://localhost:8080/"
        },
        "id": "19d1b123",
        "outputId": "71fe9cef-183f-4bc5-8cdf-f43863a074f8"
      },
      "outputs": [
        {
          "output_type": "stream",
          "name": "stdout",
          "text": [
            "[0, 2, 4, 6, 8, 10]\n"
          ]
        }
      ],
      "source": [
        "#16\n",
        "print([i for i in range(0,11,2)])"
      ]
    },
    {
      "cell_type": "code",
      "execution_count": null,
      "id": "b0031df4",
      "metadata": {
        "id": "b0031df4"
      },
      "outputs": [],
      "source": []
    },
    {
      "cell_type": "code",
      "execution_count": null,
      "id": "5d86dd72",
      "metadata": {
        "id": "5d86dd72"
      },
      "outputs": [],
      "source": []
    },
    {
      "cell_type": "code",
      "execution_count": null,
      "id": "81ab018f",
      "metadata": {
        "id": "81ab018f"
      },
      "outputs": [],
      "source": [
        "#tutorial 4\n"
      ]
    },
    {
      "cell_type": "code",
      "execution_count": null,
      "id": "b6c4a921",
      "metadata": {
        "id": "b6c4a921"
      },
      "outputs": [],
      "source": []
    },
    {
      "cell_type": "code",
      "execution_count": null,
      "id": "36b13900",
      "metadata": {
        "id": "36b13900"
      },
      "outputs": [],
      "source": []
    },
    {
      "cell_type": "code",
      "execution_count": null,
      "id": "24b42d9e",
      "metadata": {
        "id": "24b42d9e"
      },
      "outputs": [],
      "source": []
    },
    {
      "cell_type": "code",
      "execution_count": 23,
      "id": "537709bd",
      "metadata": {
        "colab": {
          "base_uri": "https://localhost:8080/"
        },
        "id": "537709bd",
        "outputId": "4fb839c6-8945-422a-844b-9c820043d3c0"
      },
      "outputs": [
        {
          "output_type": "stream",
          "name": "stdout",
          "text": [
            "{'alice': 20, 'bob': 22, 'charlie': 21, 'david': 23}\n",
            "{'alice': 20, 'bob': 22, 'charlie': 21, 'david': 23, 'eve': 20}\n"
          ]
        }
      ],
      "source": [
        "#Create a dictionary\n",
        "dict1={\"alice\":20,\"bob\":22,\"charlie\":21,\"david\":23}\n",
        "print(dict1)\n",
        "dict1[\"eve\"]=20 #updation\n",
        "print(dict1)"
      ]
    },
    {
      "cell_type": "code",
      "execution_count": null,
      "id": "8bd6b12b",
      "metadata": {
        "id": "8bd6b12b",
        "outputId": "e44429ab-303c-4a45-bcbe-c2e4bc41b69f"
      },
      "outputs": [
        {
          "name": "stdout",
          "output_type": "stream",
          "text": [
            "{'alice': 20, 'bob': 23, 'charlie': 21, 'david': 23, 'eve': 20}\n"
          ]
        }
      ],
      "source": [
        "#Update an existing value\n",
        "dict1[\"bob\"]=23\n",
        "print(dict1)"
      ]
    },
    {
      "cell_type": "code",
      "execution_count": null,
      "id": "ae5c9e91",
      "metadata": {
        "id": "ae5c9e91",
        "outputId": "d23adc6b-08d5-4e39-86ce-761837b3f97f"
      },
      "outputs": [
        {
          "name": "stdout",
          "output_type": "stream",
          "text": [
            "{'alice': 20, 'bob': 23, 'david': 23, 'eve': 20}\n"
          ]
        }
      ],
      "source": [
        "#Delete a Key-Value Pair\n",
        "del dict1[\"charlie\"]\n",
        "print(dict1)"
      ]
    },
    {
      "cell_type": "code",
      "execution_count": null,
      "id": "15ebead3",
      "metadata": {
        "id": "15ebead3",
        "outputId": "e6efbc08-8555-4b81-cbe6-1bbb42225e10"
      },
      "outputs": [
        {
          "name": "stdout",
          "output_type": "stream",
          "text": [
            "{'alice': 20, 'bob': 23, 'david': 23}\n"
          ]
        }
      ],
      "source": [
        "#Remove last item\n",
        "dict1.popitem()\n",
        "print(dict1)"
      ]
    },
    {
      "cell_type": "code",
      "execution_count": null,
      "id": "b8b4cf8f",
      "metadata": {
        "id": "b8b4cf8f",
        "outputId": "7aa3f49f-a25e-4154-b9f1-226bbfe69e30"
      },
      "outputs": [
        {
          "name": "stdout",
          "output_type": "stream",
          "text": [
            "20\n"
          ]
        }
      ],
      "source": [
        "#Retreive a value by key\n",
        "print(dict1[\"alice\"])"
      ]
    },
    {
      "cell_type": "code",
      "execution_count": null,
      "id": "62e77222",
      "metadata": {
        "id": "62e77222",
        "outputId": "ab94d0b9-c325-4b4d-d6f9-96d2dc7a9c5d"
      },
      "outputs": [
        {
          "name": "stdout",
          "output_type": "stream",
          "text": [
            "Not Found\n"
          ]
        }
      ],
      "source": [
        "#Check if a key exists\n",
        "if \"Frank\" in dict1:\n",
        "    print(\"Exists\")\n",
        "else:\n",
        "    print(\"Not Found\")"
      ]
    },
    {
      "cell_type": "code",
      "execution_count": null,
      "id": "c6e8ab61",
      "metadata": {
        "id": "c6e8ab61",
        "outputId": "ea449edb-aaa3-4e47-f8c7-56739f746eb4"
      },
      "outputs": [
        {
          "name": "stdout",
          "output_type": "stream",
          "text": [
            "alice\n",
            "bob\n",
            "david\n"
          ]
        }
      ],
      "source": [
        "#print all keys\n",
        "for key in dict1.keys():\n",
        "    print(key)"
      ]
    },
    {
      "cell_type": "code",
      "execution_count": null,
      "id": "c4d375e9",
      "metadata": {
        "id": "c4d375e9",
        "outputId": "bc99be01-814d-4438-e81c-cf239107432c"
      },
      "outputs": [
        {
          "data": {
            "text/plain": [
              "dict_values([20, 23, 23])"
            ]
          },
          "execution_count": 22,
          "metadata": {},
          "output_type": "execute_result"
        }
      ],
      "source": [
        "#print all values\n",
        "dict1.values()"
      ]
    },
    {
      "cell_type": "code",
      "execution_count": null,
      "id": "e34456f6",
      "metadata": {
        "id": "e34456f6",
        "outputId": "75d11d65-f4aa-4333-e157-7222aa572cb1"
      },
      "outputs": [
        {
          "data": {
            "text/plain": [
              "dict_items([('alice', 20), ('bob', 23), ('david', 23)])"
            ]
          },
          "execution_count": 23,
          "metadata": {},
          "output_type": "execute_result"
        }
      ],
      "source": [
        "#print all items\n",
        "dict1.items()"
      ]
    },
    {
      "cell_type": "code",
      "execution_count": null,
      "id": "e8f0c545",
      "metadata": {
        "id": "e8f0c545",
        "outputId": "c5e2199d-92e9-4e66-9203-bc2407111313"
      },
      "outputs": [
        {
          "name": "stdout",
          "output_type": "stream",
          "text": [
            "alice 20\n",
            "bob 23\n",
            "david 23\n"
          ]
        }
      ],
      "source": [
        "\n",
        "for key,val in dict1.items():\n",
        "    print(key,val)\n",
        ""
      ]
    },
    {
      "cell_type": "code",
      "execution_count": null,
      "id": "0a828628",
      "metadata": {
        "id": "0a828628",
        "outputId": "8493c623-04ad-4837-cf97-c36b55a649bc"
      },
      "outputs": [
        {
          "name": "stdout",
          "output_type": "stream",
          "text": [
            "3\n"
          ]
        }
      ],
      "source": [
        "#Find the length of the Dictionary\n",
        "print(len(dict1))"
      ]
    },
    {
      "cell_type": "code",
      "execution_count": null,
      "id": "53ad9272",
      "metadata": {
        "id": "53ad9272",
        "outputId": "1e13b7bd-5880-43f7-8dfc-33a3a3157ee8"
      },
      "outputs": [
        {
          "name": "stdout",
          "output_type": "stream",
          "text": [
            "{}\n"
          ]
        }
      ],
      "source": [
        "#Clear the Dictionary\n",
        "dict1.clear()\n",
        "print(dict1)"
      ]
    },
    {
      "cell_type": "code",
      "execution_count": null,
      "id": "d8802460",
      "metadata": {
        "id": "d8802460",
        "outputId": "db8bfaa1-d253-48bf-9e31-4260b8609b3e"
      },
      "outputs": [
        {
          "name": "stdout",
          "output_type": "stream",
          "text": [
            "{'alice': 20, 'bob': 22, 'charlie': 21, 'david': 23, 'eve': 20}\n"
          ]
        }
      ],
      "source": [
        "#Copy the Dictionary\n",
        "dict2={}\n",
        "dict2=dict1.copy()\n",
        "print(dict2)"
      ]
    },
    {
      "cell_type": "code",
      "execution_count": 24,
      "id": "dffa7b23",
      "metadata": {
        "colab": {
          "base_uri": "https://localhost:8080/"
        },
        "id": "dffa7b23",
        "outputId": "e32ba3f6-fd0a-4446-f9ed-8724dbb8bac8"
      },
      "outputs": [
        {
          "output_type": "stream",
          "name": "stdout",
          "text": [
            "{'alice': 20, 'bob': 22, 'charlie': 21, 'david': 23, 'eve': 20}\n",
            "{'alice': 20, 'bob': 22, 'charlie': 21, 'david': 23, 'eve': 20, 'frank': 24}\n"
          ]
        }
      ],
      "source": [
        "#Merge two dictionaries\n",
        "print(dict1)\n",
        "new_students={\"eve\":20,\"frank\":24}\n",
        "\n",
        "dict1.update(new_students) #orig.update(new)\n",
        "print(dict1)\n"
      ]
    },
    {
      "cell_type": "code",
      "execution_count": null,
      "id": "3102bd61",
      "metadata": {
        "id": "3102bd61",
        "outputId": "b479d8b2-3a70-4039-dc8b-a0917c169ca9"
      },
      "outputs": [
        {
          "name": "stdout",
          "output_type": "stream",
          "text": [
            "['alice', 'bob', 'charlie', 'david', 'eve', 'frank']\n"
          ]
        }
      ],
      "source": [
        "#Sort Dictionary by keys\n",
        "print(sorted(dict1.keys()))"
      ]
    },
    {
      "cell_type": "code",
      "execution_count": 41,
      "id": "a2f0b571",
      "metadata": {
        "colab": {
          "base_uri": "https://localhost:8080/"
        },
        "id": "a2f0b571",
        "outputId": "67c8298b-86d9-4e3c-af2a-9f43de2fc2a4"
      },
      "outputs": [
        {
          "output_type": "stream",
          "name": "stdout",
          "text": [
            "alice\n"
          ]
        }
      ],
      "source": [
        "#Find student with maximum age\n",
        "dict1[\"alice\"]=40\n",
        "print(max(dict1,key=dict1.get))\n",
        "\n",
        "\n",
        ""
      ]
    },
    {
      "cell_type": "code",
      "execution_count": 44,
      "id": "e47fc15d",
      "metadata": {
        "colab": {
          "base_uri": "https://localhost:8080/"
        },
        "id": "e47fc15d",
        "outputId": "add86173-e674-41a5-fec5-f008e786fd4c"
      },
      "outputs": [
        {
          "output_type": "stream",
          "name": "stdout",
          "text": [
            "{'Alice': {'age': 20, 'city': 'New York', 'marks': 85}, 'Bob': {'age': 22, 'city': 'Los Angeles', 'marks': 78}, 'Charlie': {'age': 21, 'city': 'Chicago', 'marks': 90}, 'David': {'age': 23, 'city': 'Houston', 'marks': 88}}\n"
          ]
        }
      ],
      "source": [
        "students = { \"Alice\": {\"age\": 20,\"city\":\"New York\", \"marks\": 85},\n",
        "\"Bob\": {\"age\": 22,\"city\":\"Los Angeles\", \"marks\": 78},\n",
        "\"Charlie\": {\"age\": 21, \"city\":\"Chicago\", \"marks\": 90},\n",
        "\"David\": {\"age\": 23, \"city\": \"Houston\", \"marks\": 88} }\n",
        "print(students)"
      ]
    },
    {
      "cell_type": "code",
      "execution_count": 45,
      "id": "503babe9",
      "metadata": {
        "colab": {
          "base_uri": "https://localhost:8080/"
        },
        "id": "503babe9",
        "outputId": "fa51d2d8-e298-45c6-e4fc-b8b48bacf910"
      },
      "outputs": [
        {
          "output_type": "stream",
          "name": "stdout",
          "text": [
            "{'Alice': {'age': 20, 'city': 'New York', 'marks': 85}, 'Bob': {'age': 23, 'city': 'Los Angeles', 'marks': 78}, 'Charlie': {'age': 21, 'city': 'Chicago', 'marks': 90}, 'David': {'age': 23, 'city': 'Houston', 'marks': 88}}\n"
          ]
        }
      ],
      "source": [
        "#18 Update an existing Student's age\n",
        "students[\"Bob\"][\"age\"]=23\n",
        "print(students)"
      ]
    },
    {
      "cell_type": "code",
      "execution_count": 46,
      "id": "852ec7c8",
      "metadata": {
        "colab": {
          "base_uri": "https://localhost:8080/"
        },
        "id": "852ec7c8",
        "outputId": "89f88270-3b45-4304-ed10-fbb0f82e5b90"
      },
      "outputs": [
        {
          "output_type": "stream",
          "name": "stdout",
          "text": [
            "{'Alice': {'age': 20, 'city': 'New York', 'marks': 85}, 'Bob': {'age': 23, 'city': 'Los Angeles', 'marks': 78}, 'Charlie': {'age': 21, 'city': 'Chicago', 'marks': 90}, 'David': {'age': 23, 'city': 'Houston', 'marks': 5}}\n"
          ]
        }
      ],
      "source": [
        "#19 Increse marks of a student\n",
        "students[\"David\"][\"marks\"]=5\n",
        "print(students)"
      ]
    },
    {
      "cell_type": "code",
      "execution_count": 48,
      "id": "98970173",
      "metadata": {
        "colab": {
          "base_uri": "https://localhost:8080/"
        },
        "id": "98970173",
        "outputId": "2efb1022-b087-494c-ef7d-654a661fb9cb"
      },
      "outputs": [
        {
          "output_type": "stream",
          "name": "stdout",
          "text": [
            "nested Dictionary:\n",
            "{'Alice': {'age': 20, 'city': 'New York', 'marks': 85}, 'Bob': {'age': 23, 'city': 'Los Angeles', 'marks': 78}, 'Charlie': {'age': 21, 'city': 'Chicago', 'marks': 90}, 'David': {'age': 23, 'city': 'Houston', 'marks': 5}}\n"
          ]
        }
      ],
      "source": [
        "#20 Display nested Dictionary\n",
        "print(\"nested Dictionary:\")\n",
        "print(students)"
      ]
    }
  ],
  "metadata": {
    "kernelspec": {
      "display_name": "Python 3 (ipykernel)",
      "language": "python",
      "name": "python3"
    },
    "language_info": {
      "codemirror_mode": {
        "name": "ipython",
        "version": 3
      },
      "file_extension": ".py",
      "mimetype": "text/x-python",
      "name": "python",
      "nbconvert_exporter": "python",
      "pygments_lexer": "ipython3",
      "version": "3.9.7"
    },
    "colab": {
      "provenance": [],
      "include_colab_link": true
    }
  },
  "nbformat": 4,
  "nbformat_minor": 5
}